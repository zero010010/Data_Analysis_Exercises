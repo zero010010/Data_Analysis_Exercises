{
 "cells": [
  {
   "cell_type": "markdown",
   "metadata": {},
   "source": [
    "## Ejercicio 1\n",
    "Importa el módulo de `numpy` y obtén su versión."
   ]
  },
  {
   "cell_type": "code",
   "execution_count": null,
   "metadata": {},
   "outputs": [],
   "source": [
    "import numpy as np\n",
    "np.__version__"
   ]
  },
  {
   "cell_type": "markdown",
   "metadata": {},
   "source": [
    "## Ejercicio 2\n",
    "Crea un array de una dimensión que vaya de 0 a 9. Llamalo `my_array`\n",
    "\n",
    "* np.arange(start, stop, step, dtype=None)\n",
    "\n",
    " start = the start of the interval (inc)<br>\n",
    " stop  = the end of the interval (exc), <br>\n",
    " step  = the spacing between values<br> \n",
    " dtype = the data type of the array<br>"
   ]
  },
  {
   "cell_type": "code",
   "execution_count": null,
   "metadata": {},
   "outputs": [],
   "source": [
    "my_array = np.arange(10)\n",
    "print(my_array)"
   ]
  },
  {
   "cell_type": "markdown",
   "metadata": {},
   "source": [
    "## Ejercicio 3\n",
    "Crea un array 3x3, que sea todo a True\n",
    "* np.full(shape, fill_value, dtype=None, order='C', *, like=None)<br>\n",
    "\n",
    "The shape parameter = the shape of the new array, <br>\n",
    "the fill_value parameter = the value to fill the array with,<br>\n",
    "the dtype parameter = the data type of the array.<br>\n",
    "\n",
    "* order: An optional parameter that specifies whether to store multidimensional data in C- or Fortran-contiguous (row- or column-wise) order in memory. It defaults to 'C'.\n",
    "\n",
    "* like: An optional parameter that specifies a reference object to allow the creation of arrays which are not NumPy arrays. If an array-like object is passed in as like and supports the __array_function__ protocol, the result will be defined by it. (This parameter was introduced in version 1.20.0.)\n",
    "\n",
    "(The order and like parameters are optional, use 'C' or 'F' for order, and an array-like object for like)"
   ]
  },
  {
   "cell_type": "code",
   "execution_count": 22,
   "metadata": {},
   "outputs": [
    {
     "name": "stdout",
     "output_type": "stream",
     "text": [
      "[[ True  True  True]\n",
      " [ True  True  True]\n",
      " [ True  True  True]]\n"
     ]
    }
   ],
   "source": [
    "array_true =np.full ((3,3), True, dtype = bool )\n",
    "print(x)"
   ]
  },
  {
   "cell_type": "markdown",
   "metadata": {},
   "source": [
    "## Ejercicio 4\n",
    "Extrae todos los impares de `my_array`\n",
    "\n",
    "* Mask\n",
    "\n",
    "A mask is a special kind of array that tells us which elements of another array to include and<br>\n",
    " which ones to exclude. <br>\n",
    " The mask has the same shape as the original array, but each element is either True or False.\n",
    "\n",
    " A masked array is an array that has some elements marked as invalid or missing. Masked arrays are useful for data manipulation because they allow to perform operations on arrays with missing or invalid data without having to remove the missing or invalid values from the array.<br>\n",
    "\n",
    "Applications:<br>\n",
    "\n",
    "* Data cleaning: Masked arrays can be used to clean data by identifying and removing invalid or missing values from an array.\n",
    "* Data analysis: Masked arrays can be used to perform statistical analysis on data with missing or invalid values.\n",
    "* Data visualization: Masked arrays can be used to create visualizations of data with missing or invalid values."
   ]
  },
  {
   "cell_type": "code",
   "execution_count": 25,
   "metadata": {},
   "outputs": [
    {
     "name": "stdout",
     "output_type": "stream",
     "text": [
      "[1 3 5 7 9]\n"
     ]
    }
   ],
   "source": [
    "'''array_odd = same shape as my_array and, \n",
    "element in the new array == True,\n",
    " if matching element\n",
    " in my_array == odd, \n",
    " otherwise False.'''\n",
    "\n",
    "array_odd = my_array %2 ==1\n",
    "print(my_array[array_odd])"
   ]
  },
  {
   "cell_type": "markdown",
   "metadata": {},
   "source": [
    "## Ejercicio 5\n",
    "En un nuevo array, sustituye todos los impares de `my_array` por -1"
   ]
  },
  {
   "cell_type": "code",
   "execution_count": 32,
   "metadata": {},
   "outputs": [
    {
     "name": "stdout",
     "output_type": "stream",
     "text": [
      "[ 0 -1  2 -1  4 -1  6 -1  8 -1]\n"
     ]
    }
   ],
   "source": [
    "new =my_array.copy()\n",
    "imp_02 = new %2 == 1\n",
    "# all the elements of \"new\" are set to the True values in \"imp_02\" \n",
    "# and then assigned the new value -1.\n",
    "new[imp_02] =-1\n",
    "print(new)\n"
   ]
  },
  {
   "cell_type": "markdown",
   "metadata": {},
   "source": [
    "## Ejercicio 6\n",
    "En un nuevo array, sustituye todos los impares de `my_array` por -1. Esta vez usa `where`\n",
    "\n",
    "np.where (condition,x,y)<br>\n",
    "\n",
    "Returns an array of indices where a specified condition is true.<br>\n",
    " Parameters:\n",
    "\n",
    "* condition: a boolean array that specifies the condition to check.<br>\n",
    "* x: An array-like object that specifies the values to return where the condition is true.\n",
    "* y: An array-like object that specifies the values to return where the condition is false.\n",
    "\n",
    "Applications:\n",
    "\n",
    "* Data filtering:  used to filter data by selecting only the elements that meet a certain condition.\n",
    "* Data transformation: used to transform data by replacing elements that meet a certain condition with a specified value.\n",
    "* Data analysis: used to perform statistical analysis on data by selecting only the elements that meet a certain condition.\n"
   ]
  },
  {
   "cell_type": "code",
   "execution_count": 39,
   "metadata": {},
   "outputs": [
    {
     "name": "stdout",
     "output_type": "stream",
     "text": [
      "[ 0 -1  2 -1  4 -1  6 -1  8 -1]\n"
     ]
    }
   ],
   "source": [
    "'''np.where, 3 args:\n",
    "(my_array % 2 == 1) creates an odd Boolean array \n",
    "\n",
    "(-1) value to assign to all the odd numbers.\n",
    "\n",
    "(my_array) is the original array to be modified.'''\n",
    "\n",
    "n = np.where(my_array % 2 ==1,-1, my_array )\n",
    "print(n)"
   ]
  },
  {
   "cell_type": "markdown",
   "metadata": {},
   "source": [
    "## Ejercicio 7\n",
    "Convierte `my_array` en un nuevo array de dos dimensiones mediante `reshape`.\n",
    "\n",
    "numpy.reshape <br>\n",
    "Returns a new array with a specified shape. <br>\n",
    "\n",
    "parameters:\n",
    "\n",
    "* a: array-like object that specifies the array to be reshaped.\n",
    "* newshape: An integer or sequence of integers that specifies the new shape of the array.\n",
    "(order: An optional parameter that specifies the order in which the elements of the array should be read. It defaults to 'C')\n",
    "\n",
    "Applications:\n",
    "\n",
    "* Data flattening: numpy.reshape can be used to flatten an array into a one-dimensional array.\n",
    "* Data transformation: numpy.reshape can be used to transform an array into a new shape that is compatible with another operation.\n",
    "* Data visualization: numpy.reshape can be used to reshape an array into a format that is compatible with a specific visualization."
   ]
  },
  {
   "cell_type": "code",
   "execution_count": 47,
   "metadata": {},
   "outputs": [
    {
     "name": "stdout",
     "output_type": "stream",
     "text": [
      "10\n"
     ]
    },
    {
     "data": {
      "text/plain": [
       "array([[0, 1, 2, 3, 4],\n",
       "       [5, 6, 7, 8, 9]])"
      ]
     },
     "execution_count": 47,
     "metadata": {},
     "output_type": "execute_result"
    }
   ],
   "source": [
    "# array.reshape((rows,columns)), \n",
    "# array.size, total number of elements in the array\n",
    "\n",
    "print(my_array.size)\n",
    "my_array.reshape(2,5)\n"
   ]
  },
  {
   "cell_type": "markdown",
   "metadata": {},
   "source": [
    "## Ejercicio 8\n",
    "Concatena los siguientes arrays verticamente\n",
    "\n",
    "```Python\n",
    "a = np.arange(10).reshape(2,-1)\n",
    "b = np.repeat(1, 10).reshape(2,-1)\n",
    "```"
   ]
  },
  {
   "cell_type": "code",
   "execution_count": 48,
   "metadata": {},
   "outputs": [
    {
     "data": {
      "text/plain": [
       "array([[0, 1, 2, 3, 4],\n",
       "       [5, 6, 7, 8, 9],\n",
       "       [1, 1, 1, 1, 1],\n",
       "       [1, 1, 1, 1, 1]])"
      ]
     },
     "execution_count": 48,
     "metadata": {},
     "output_type": "execute_result"
    }
   ],
   "source": [
    "'''np.vstack()\n",
    "  stack arrays vertically\n",
    "  np.hstack, horizontally'''\n",
    "\n",
    "a = np.arange(10).reshape(2,-1)\n",
    "b = np.repeat(1, 10).reshape(2,-1)\n",
    "\n",
    "np.vstack([a,b])"
   ]
  },
  {
   "cell_type": "markdown",
   "metadata": {},
   "source": [
    "## Ejercicio 9\n",
    "Concatena los siguientes arrays horizontamente\n",
    "\n",
    "```Python\n",
    "a = np.arange(10).reshape(2,-1)\n",
    "b = np.repeat(1, 10).reshape(2,-1)\n",
    "```"
   ]
  },
  {
   "cell_type": "code",
   "execution_count": null,
   "metadata": {},
   "outputs": [],
   "source": [
    "a = np.arange(10).reshape(2,-1)\n",
    "b = np.repeat(1, 10).reshape(2,-1)\n",
    "\n",
    "np.hstack([a,b])"
   ]
  },
  {
   "cell_type": "markdown",
   "metadata": {},
   "source": [
    "## Ejercicio 10\n",
    "Encuentra todos los elementos en común entre ambos arrays. [Para ello usa el método `intersect1d`](https://numpy.org/doc/stable/reference/generated/numpy.intersect1d.html)\n",
    "```Python\n",
    "a = np.array([1,2,3,2,3,4,3,4,5,6])\n",
    "b = np.array([7,2,10,2,7,4,9,4,9,8])\n",
    "```\n",
    "* np.intersect1d(ar1, ar2, assume_unique=False, return_indices=False)<br>\n",
    "\n",
    "Allows you to find the common elements between two arrays and return them as a new array. This can be helpful when you want to compare two datasets and find the overlapping values.Return the sorted, unique values that are in both of the input arrays.\n",
    "\n",
    "Parameters:\n",
    "* ar1, ar2array_like\n",
    "* Input arrays. Will be flattened if not already 1D.\n",
    "assume_uniquebool\n",
    "If True, the input arrays are both assumed to be unique, which can speed up the calculation.<br>\n",
    "If True but ar1 or ar2 are not unique, incorrect results and out-of-bounds indices could result. Default is False.\n",
    "* return_indicesbool\n",
    "If True, the indices which correspond to the intersection of the two arrays are returned. The first instance of a value is used if there are multiple. Default is False.\n",
    "New in version 1.15.0.\n",
    "\n",
    "Applications:\n",
    "\n",
    "* Data filtering:to filter data by selecting only the elements that are common to two arrays.\n",
    "* Data transformation:to transform data by creating a new array with only the elements that are common to two arrays.\n",
    "* Data analysis: to perform statistical analysis on data by selecting only the elements that are common to two arrays."
   ]
  },
  {
   "cell_type": "code",
   "execution_count": 51,
   "metadata": {},
   "outputs": [
    {
     "data": {
      "text/plain": [
       "array([2, 4])"
      ]
     },
     "execution_count": 51,
     "metadata": {},
     "output_type": "execute_result"
    }
   ],
   "source": [
    "'''np.intersect1d(a,b)\n",
    "finds the common elements between two arrays\n",
    "and returns them as a new array. '''\n",
    "\n",
    "a = np.array([1,2,3,2,3,4,3,4,5,6])\n",
    "b = np.array([7,2,10,2,7,4,9,4,9,8])\n",
    "\n",
    "np.intersect1d(a,b)"
   ]
  },
  {
   "cell_type": "markdown",
   "metadata": {},
   "source": [
    "## Ejercicio 11\n",
    "Obtén la documentación acerca de la función `concatenate`"
   ]
  },
  {
   "cell_type": "code",
   "execution_count": null,
   "metadata": {},
   "outputs": [],
   "source": [
    "help(np.concatenate)"
   ]
  },
  {
   "cell_type": "markdown",
   "metadata": {},
   "source": [
    "## Ejercicio 12\n",
    "Crea un array unidimensional que vaya del 0 al 9. Llámalo `my_array`. \n",
    "1. Multiplica cada uno de los elementos de `my_array` por 10, en un nuevo array\n",
    "2. Accede al primer elemento del array\n",
    "3. Accede al último elemento del array\n",
    "4. Imprime por pantalla los numeros del 1 al 7"
   ]
  },
  {
   "cell_type": "code",
   "execution_count": null,
   "metadata": {},
   "outputs": [],
   "source": [
    "my_array = np.arange(10)\n",
    "\n",
    "mult = my_array*10\n",
    "print(mult)\n",
    "\n",
    "\n",
    "print(my_array [0])\n",
    "print(my_array [-1])\n",
    "print(my_array [1:8])\n"
   ]
  },
  {
   "cell_type": "markdown",
   "metadata": {},
   "source": [
    "## Ejercicio 13\n",
    "Crea un array manualmente de tres filas por tres columnas. Llámalo `my_matrix`"
   ]
  },
  {
   "cell_type": "code",
   "execution_count": null,
   "metadata": {},
   "outputs": [],
   "source": [
    "my_matrix = np.array ([[73,55,7],[4,16,7],[83,-4,95]])\n",
    "print(my_matrix)"
   ]
  },
  {
   "cell_type": "markdown",
   "metadata": {},
   "source": [
    "## Ejercicio 14\n",
    "Obtén la siguiente secuencia:\n",
    "\n",
    "```Python\n",
    "[ 1,  4,  7, 10, 13, 16, 19, 22, 25, 28, 31, 34, 37, 40, 43, 46, 49]\n",
    "```"
   ]
  },
  {
   "cell_type": "code",
   "execution_count": null,
   "metadata": {},
   "outputs": [],
   "source": [
    "'''args.\n",
    "starts at 1, \n",
    "ends at 50,\n",
    " step of 3'''\n",
    " \n",
    "np.arange(1,50,3)"
   ]
  },
  {
   "cell_type": "markdown",
   "metadata": {},
   "source": [
    "## Ejercicio 15\n",
    "Obtén la siguiente secuencia\n",
    "\n",
    "```Python\n",
    "[4., 3.75, 3.5 , 3.25, 3.  , 2.75, 2.5 , 2.25, 2., 1.75, 1.5 ,1.25]\n",
    "```"
   ]
  },
  {
   "cell_type": "code",
   "execution_count": null,
   "metadata": {},
   "outputs": [],
   "source": [
    "np.arange(4,1.25,-0.25)"
   ]
  },
  {
   "cell_type": "markdown",
   "metadata": {},
   "source": [
    "## Ejercicio 16\n",
    "Lee la imagen \"numpy.png\""
   ]
  },
  {
   "cell_type": "code",
   "execution_count": null,
   "metadata": {},
   "outputs": [],
   "source": [
    "from skimage.io import imread\n",
    "import matplotlib.pyplot as plt\n",
    "\n",
    "imag=imread(\"./img/numpy.png\")\n",
    "plt.imshow(imag)\n",
    "print(imag.shape)"
   ]
  },
  {
   "cell_type": "markdown",
   "metadata": {},
   "source": [
    "## Ejercicio 17\n",
    "Crea un array de 4x1. A continuación convierte el array a un 2x2\n",
    "\n",
    "* Reshaping an array can be useful when you want to perform operations on the data that require a different shape. For example, to reshape an array so that it can be used as input to a machine learning algorithm.\n",
    "\n"
   ]
  },
  {
   "cell_type": "markdown",
   "metadata": {},
   "source": [
    "np.reshape <br>\n",
    "\n",
    "Returns a new array with a specified shape.<br>\n",
    "\n",
    "np.array<br>\n",
    "\n",
    "creates a new array.<br>\n",
    "\n",
    "Parameters:\n",
    "\n",
    "* object: An array-like object that specifies the array to be created.\n",
    "* dtype: An optional parameter that specifies the data type of the new array. If not specified, it defaults to the data type of object.\n",
    "* copy: An optional parameter that specifies whether to copy the data from object. It defaults to True.\n",
    "* order: An optional parameter that specifies whether to store multidimensional data in C- or Fortran-contiguous (row- or column-wise) order in memory. It defaults to 'K'.\n",
    "\n",
    "* (subok: An optional parameter that specifies whether to return a subclass of ndarray. It defaults to False).\n",
    "* (ndmin: An optional parameter that specifies the minimum number of dimensions that the resulting array should have. It defaults to 0.)\n",
    "\n",
    "Aplications:\n",
    "\n",
    "* Data creation: to create new arrays from existing data.\n",
    "* Data transformation: transform existing data into a new format that is compatible with other operations.\n",
    "* Data analysis:to perform statistical analysis on data by creating arrays with specific shapes and sizes."
   ]
  },
  {
   "cell_type": "code",
   "execution_count": null,
   "metadata": {},
   "outputs": [],
   "source": [
    "array_4_4= np.array([[0],[0],[0],[0]])\n",
    "array_4_4.reshape((2,2))"
   ]
  },
  {
   "cell_type": "markdown",
   "metadata": {},
   "source": [
    "## Ejercicio 18\n",
    "Crea una secuencia aleatoria. La secuencia se tiene que componer de 4 matrices de 5x3. Serían 3 dimensiones diferentes.\n",
    "\n",
    "* np.random.seed<br>\n",
    " set the random seed for random number generator.<br>\n",
    "* The function takes an integer as an argument and returns None. \n",
    "* The seed is used to initialize the pseudorandom number generator, which generates a sequence of numbers that appear to be random but are actually deterministic.\n",
    "* random seed is used to initialize the generator, which ensures that the same sequence of random numbers is generated every time you run your code.<br>\n",
    "*  This can be useful when you want to generate random numbers that are reproducible.\n",
    "\n",
    "Applications:\n",
    "\n",
    "* Reproducibility: to ensure that a sequence of random numbers is reproducible. By setting the seed to a fixed value, you can generate the same sequence of random numbers every time you run your code.\n",
    "\n",
    "* Data splitting: to split data into training and test sets. By setting the seed to a fixed value, you can ensure that the same data points are selected for the training and test sets every time you run your code.\n",
    "\n",
    "* Data shuffling: to shuffle data. By setting the seed to a fixed value, you can ensure that the same shuffling order is used every time you run your code.\n",
    "\n"
   ]
  },
  {
   "cell_type": "code",
   "execution_count": null,
   "metadata": {},
   "outputs": [],
   "source": [
    "''' random integers between 1 and 10. \n",
    "args.\n",
    " lowest possible value = 1\n",
    " highest possible value -1 = 10\n",
    "  The size parameter = shape (4, 5, 3) \n",
    "  4 rows, 5 columns, and 3 layers.'''\n",
    "np.random.seed(6)\n",
    "sqnc= np.random.randint(1,10,size=(4,5,3))\n",
    "print(sqnc)"
   ]
  },
  {
   "cell_type": "markdown",
   "metadata": {},
   "source": [
    "## Ejercicio 19\n",
    "Crea una matriz de 10x1, toda ella compuesta por `False`. Después transformalo en un 2x5. <br>\n",
    "np.full((x,y),Bool)"
   ]
  },
  {
   "cell_type": "code",
   "execution_count": null,
   "metadata": {},
   "outputs": [],
   "source": [
    "f=np.full((10,1),False)\n",
    "print(f)"
   ]
  },
  {
   "cell_type": "markdown",
   "metadata": {},
   "source": [
    "## Ejercicio 20\n",
    "Dado el siguiente array<br>\n",
    "* x.size, x.shape, x.shape\n",
    "```Python\n",
    "x =np.random.randint(10, 20, size = (5,2,6))\n",
    "```\n",
    "\n",
    "1. ¿Cuántos elementos tiene el array? x.size\n",
    "2. ¿Cuántas dimensiones?.x.diim\n",
    "3. ¿Cuántos elementos tiene cada dimensión?x.shape"
   ]
  },
  {
   "cell_type": "code",
   "execution_count": null,
   "metadata": {},
   "outputs": [],
   "source": [
    "x =np.random.randint(10, 20, size = (5,2,6))\n",
    "print(x.size, x.ndim, x.shape)"
   ]
  }
 ],
 "metadata": {
  "kernelspec": {
   "display_name": "Python 3.7.9 64-bit",
   "language": "python",
   "name": "python3"
  },
  "language_info": {
   "codemirror_mode": {
    "name": "ipython",
    "version": 3
   },
   "file_extension": ".py",
   "mimetype": "text/x-python",
   "name": "python",
   "nbconvert_exporter": "python",
   "pygments_lexer": "ipython3",
   "version": "3.11.4"
  },
  "vscode": {
   "interpreter": {
    "hash": "ec2a379ed5c25334a484232182c9d38ef8bd9861e2542d0c517568c4f99a9a7c"
   }
  }
 },
 "nbformat": 4,
 "nbformat_minor": 4
}
