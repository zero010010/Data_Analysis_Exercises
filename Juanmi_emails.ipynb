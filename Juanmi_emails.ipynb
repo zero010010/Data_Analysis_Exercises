{
 "cells": [
  {
   "cell_type": "markdown",
   "metadata": {},
   "source": [
    "# Extrae los dominios de los correos con una expresión regular"
   ]
  },
  {
   "cell_type": "code",
   "execution_count": 2,
   "metadata": {},
   "outputs": [],
   "source": [
    "import re\n",
    "\n",
    "emails = '''\n",
    "peperamos@thebridgeschool.tech\n",
    "pepe.ramos@uc3m.es\n",
    "pepe-12-1993@mi-correo.net\n",
    "peprams@s@thebridgeschool.es\n",
    "'''"
   ]
  },
  {
   "cell_type": "markdown",
   "metadata": {},
   "source": [
    "Es decir.. \n",
    "* @thebridgeschool.tech\n",
    "* @uc3m.es\n",
    "* @mi-correo.net\n",
    "* @thebridgeschool.es"
   ]
  },
  {
   "cell_type": "markdown",
   "metadata": {},
   "source": [
    "Method 1: r'@[\\w-]+\\.[\\w]{2,4}'\n",
    "* r'@ matches the characters r'@ literally (case sensitive)\n",
    "* [\\w-]+: matches any word character (equal to [a-zA-Z0-9_]). \n",
    "* + = matches between one and unlimited times.\n",
    "* \\.: matches the character “.” exactly once. The backslash is needed because a plain “.” is a special character in regex that matches any character except a newline.\n",
    "* [\\w]{2,4}: This matches any word character between 2 and 4 times."
   ]
  },
  {
   "cell_type": "code",
   "execution_count": 29,
   "metadata": {},
   "outputs": [
    {
     "name": "stdout",
     "output_type": "stream",
     "text": [
      "<re.Match object; span=(10, 31), match='@thebridgeschool.tech'>\n",
      "<re.Match object; span=(42, 50), match='@uc3m.es'>\n",
      "<re.Match object; span=(63, 77), match='@mi-correo.net'>\n",
      "<re.Match object; span=(87, 106), match='@thebridgeschool.es'>\n"
     ]
    }
   ],
   "source": [
    "# method 1\n",
    "\n",
    "pattern = r'@[\\w-]+\\.[\\w]{2,4}'\n",
    "\n",
    "\n",
    "matches = re.finditer(pattern,emails)\n",
    "\n",
    "for match in matches:\n",
    "    print(match)\n"
   ]
  },
  {
   "cell_type": "markdown",
   "metadata": {},
   "source": [
    "\n",
    "Method 2: r'\\b[A-Za-z0-9._%+-]+@[A-Za-z0-9.-]+\\.[A-Z|a-z]{2,}\\b'\n",
    "\n",
    "\\b: <br>\n",
    "This is a word boundary. It helps to ensure that the pattern matches an entire word and not a part of a word.\n",
    "\n",
    "[A-Za-z0-9._%+-]+: <br>\n",
    "This part matches one or more (+) of the characters in the square brackets ([]).<br> \n",
    "The characters can be:<br>\n",
    "\n",
    "* Uppercase letters (A-Z)\n",
    "* Lowercase letters (a-z)\n",
    "* Digits (0-9)\n",
    "* Special characters (., _, %, +, -)<br>\n",
    "\n",
    "@:<br>\n",
    " This matches the “@” symbol exactly once.\n",
    "\n",
    "[A-Za-z0-9.-]+: <br>\n",
    "This part matches one or more (+) of the characters in the square brackets ([]). The characters can be:<br>\n",
    "\n",
    "* Uppercase letters (A-Z)\n",
    "* Lowercase letters (a-z)\n",
    "* Digits (0-9)<br>\n",
    "\n",
    "* Special characters (., -)<br>\n",
    "\n",
    "\\.: <br>\n",
    "This matches the “.” symbol exactly once.\n",
    "\n",
    "[A-Z|a-z]{2,}:<br>\n",
    " This part matches 2 or more ({2,}) of the characters in the square brackets ([]). <br>\n",
    " The characters can be:\n",
    "\n",
    "* Uppercase letters (A-Z)\n",
    "* Lowercase letters (a-z)<br>\n",
    "\n",
    "\\b: <br>\n",
    "This is another word boundary."
   ]
  },
  {
   "cell_type": "code",
   "execution_count": 3,
   "metadata": {},
   "outputs": [
    {
     "name": "stdout",
     "output_type": "stream",
     "text": [
      "<re.Match object; span=(1, 31), match='peperamos@thebridgeschool.tech'>\n",
      "<re.Match object; span=(32, 50), match='pepe.ramos@uc3m.es'>\n",
      "<re.Match object; span=(51, 77), match='pepe-12-1993@mi-correo.net'>\n",
      "<re.Match object; span=(86, 106), match='s@thebridgeschool.es'>\n"
     ]
    }
   ],
   "source": [
    "# Method 2\n",
    "pattern = r'\\b[A-Za-z0-9._%+-]+@[A-Za-z0-9.-]+\\.[A-Z|a-z]{2,}\\b'\n",
    "matches = re.finditer(pattern,emails)\n",
    "\n",
    "for match in matches:\n",
    "    print(match)"
   ]
  }
 ],
 "metadata": {
  "kernelspec": {
   "display_name": "Python 3.7.9 64-bit",
   "language": "python",
   "name": "python3"
  },
  "language_info": {
   "codemirror_mode": {
    "name": "ipython",
    "version": 3
   },
   "file_extension": ".py",
   "mimetype": "text/x-python",
   "name": "python",
   "nbconvert_exporter": "python",
   "pygments_lexer": "ipython3",
   "version": "3.11.4"
  },
  "orig_nbformat": 4,
  "vscode": {
   "interpreter": {
    "hash": "ec2a379ed5c25334a484232182c9d38ef8bd9861e2542d0c517568c4f99a9a7c"
   }
  }
 },
 "nbformat": 4,
 "nbformat_minor": 2
}
