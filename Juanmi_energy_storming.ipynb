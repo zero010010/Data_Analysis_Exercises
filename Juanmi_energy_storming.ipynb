{
 "cells": [
  {
   "cell_type": "code",
   "execution_count": 1,
   "metadata": {},
   "outputs": [
    {
     "name": "stdout",
     "output_type": "stream",
     "text": [
      "            vecino 1  vecino 2  vecino 3  vecino 4  vecino 5  vecino 6  \\\n",
      "2023-01-01       0.0       1.0       2.0       3.0       4.0       5.0   \n",
      "2023-01-02       1.0       2.0       3.0       4.0       5.0       6.0   \n",
      "2023-01-03       2.0       3.0       4.0       5.0       6.0       7.0   \n",
      "2023-01-04       3.0       4.0       5.0       6.0       7.0       8.0   \n",
      "2023-01-05       4.0       5.0       6.0       7.0       8.0       9.0   \n",
      "...              ...       ...       ...       ...       ...       ...   \n",
      "2023-12-27     360.0     361.0     362.0     363.0     364.0     365.0   \n",
      "2023-12-28     361.0     362.0     363.0     364.0     365.0     366.0   \n",
      "2023-12-29     362.0     363.0     364.0     365.0     366.0     367.0   \n",
      "2023-12-30     363.0     364.0     365.0     366.0     367.0     368.0   \n",
      "2023-12-31     364.0     365.0     366.0     367.0     368.0     369.0   \n",
      "\n",
      "            vecino 7  vecino 8  vecino 9  vecino 10  \n",
      "2023-01-01       6.0       7.0       8.0        9.0  \n",
      "2023-01-02       7.0       8.0       9.0       10.0  \n",
      "2023-01-03       8.0       9.0      10.0       11.0  \n",
      "2023-01-04       9.0      10.0      11.0       12.0  \n",
      "2023-01-05      10.0      11.0      12.0       13.0  \n",
      "...              ...       ...       ...        ...  \n",
      "2023-12-27     366.0     367.0     368.0      369.0  \n",
      "2023-12-28     367.0     368.0     369.0      370.0  \n",
      "2023-12-29     368.0     369.0     370.0      371.0  \n",
      "2023-12-30     369.0     370.0     371.0      372.0  \n",
      "2023-12-31     370.0     371.0     372.0      373.0  \n",
      "\n",
      "[365 rows x 10 columns]\n"
     ]
    }
   ],
   "source": [
    "import numpy as np\n",
    "import pandas as pd\n",
    "# matriz con 365 filas y 10 columnas\n",
    "matriz = np.zeros((365, 10))\n",
    "\n",
    "# Iterar sobre cada fila y columna y asignar un valor a cada elemento de la matriz\n",
    "for i in range(365):\n",
    "    for j in range(10):\n",
    "        matriz[i][j] = i + j\n",
    "\n",
    "# Convertir la matriz en un DataFrame de Pandas\n",
    "df = pd.DataFrame(matriz)\n",
    "\n",
    "# Asignar los vecinos a cada columna del DataFrame\n",
    "df.columns = ['vecino ' + str(i) for i in range(1, 11)]\n",
    "\n",
    "# Asignar dias a las fila del DataFrame\n",
    "df.index = pd.date_range(start='2023-01-01', end='2023-12-31')\n",
    "\n",
    "\n",
    "print(df)\n"
   ]
  }
 ],
 "metadata": {
  "kernelspec": {
   "display_name": "Python 3",
   "language": "python",
   "name": "python3"
  },
  "language_info": {
   "codemirror_mode": {
    "name": "ipython",
    "version": 3
   },
   "file_extension": ".py",
   "mimetype": "text/x-python",
   "name": "python",
   "nbconvert_exporter": "python",
   "pygments_lexer": "ipython3",
   "version": "3.11.4"
  }
 },
 "nbformat": 4,
 "nbformat_minor": 2
}
